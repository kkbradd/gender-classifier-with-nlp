{
 "cells": [
  {
   "cell_type": "code",
   "execution_count": 1,
   "id": "ea34ac61-82d5-4897-a738-c3c247b24ef4",
   "metadata": {},
   "outputs": [],
   "source": [
    "import pandas as pd\n",
    "import numpy as np\n",
    "import re"
   ]
  },
  {
   "cell_type": "code",
   "execution_count": 2,
   "id": "07cc7fd5-d46b-4530-832d-f9a3373d504a",
   "metadata": {},
   "outputs": [],
   "source": [
    "data = pd.read_csv(r\"gender_classifier.csv\",encoding = \"latin1\")\n",
    "data = pd.concat([data.gender, data.description],axis=1)\n",
    "data.dropna(axis=0,inplace=True)\n",
    "data.gender = [1 if each == \"female\" else 0 for each in data.gender]"
   ]
  },
  {
   "cell_type": "code",
   "execution_count": 3,
   "id": "eb36023e-d9ef-429b-92c1-d640ef839a5b",
   "metadata": {},
   "outputs": [],
   "source": [
    "def clean_text(text):\n",
    "    text = re.sub(r'[^a-zA-Z\\s]', '', text)\n",
    "    text = text.lower()\n",
    "    return text\n",
    "\n",
    "data['clean_description'] = data['description'].apply(clean_text)"
   ]
  },
  {
   "cell_type": "code",
   "execution_count": 4,
   "id": "63e62086-5421-464e-af64-a0632f96bc56",
   "metadata": {},
   "outputs": [],
   "source": [
    "first_description = data.description[4]\n",
    "description = re.sub(\"[^a-zA-Z]\",\" \",first_description)\n",
    "description = description.lower() #buyuk harften kucuk harfe cevirme"
   ]
  },
  {
   "cell_type": "code",
   "execution_count": 10,
   "id": "4fd82f66-2a1c-4f4d-874d-5a3e0ef4ee30",
   "metadata": {},
   "outputs": [],
   "source": [
    "import spacy\n",
    "\n",
    "nlp = spacy.load(\"en_core_web_sm\")\n",
    "\n",
    "def lemmatize_text(text):\n",
    "    doc = nlp(text)\n",
    "    lemmatized_tokens = [token.lemma_ for token in doc]\n",
    "    return ' '.join(lemmatized_tokens)\n",
    "\n",
    "# Lemmatizasyon işlemi\n",
    "data['lemmatized_description'] = data['clean_description'].apply(lemmatize_text)\n"
   ]
  },
  {
   "cell_type": "code",
   "execution_count": 11,
   "id": "a51eca24-5b0d-496d-b938-02c07b9f9af8",
   "metadata": {},
   "outputs": [],
   "source": [
    "from spacy.lang.en.stop_words import STOP_WORDS\n",
    "\n",
    "custom_stop_words = set(STOP_WORDS)\n",
    "\n",
    "def remove_stop_words(text):\n",
    "    tokens = text.split()\n",
    "    filtered_tokens = [token for token in tokens if token not in custom_stop_words]\n",
    "    return ' '.join(filtered_tokens)\n",
    "\n",
    "data['no_stop_words_description'] = data['lemmatized_description'].apply(remove_stop_words)\n"
   ]
  },
  {
   "cell_type": "code",
   "execution_count": 12,
   "id": "f2ad4ea5-a64f-4fc0-834c-32b62338c823",
   "metadata": {},
   "outputs": [],
   "source": [
    "from sklearn.feature_extraction.text import TfidfVectorizer\n",
    "\n",
    "# TF-IDF vektörizasyonu\n",
    "tfidf_vectorizer = TfidfVectorizer(max_features=1500)\n",
    "tfidf_matrix = tfidf_vectorizer.fit_transform(data['no_stop_words_description'])\n",
    "\n",
    "# TF-IDF matrisi üzerindeki öznitelik isimlerini alma\n",
    "feature_names = tfidf_vectorizer.get_feature_names_out()\n",
    "\n",
    "# TF-IDF matrisini DataFrame'e dönüştürme (isteğe bağlı)\n",
    "tfidf_df = pd.DataFrame(tfidf_matrix.toarray(), columns=feature_names)\n"
   ]
  },
  {
   "cell_type": "code",
   "execution_count": 13,
   "id": "824f89df-0fe3-4bfb-b9aa-b96c0dc193c3",
   "metadata": {},
   "outputs": [
    {
     "name": "stdout",
     "output_type": "stream",
     "text": [
      "              precision    recall  f1-score   support\n",
      "\n",
      "           0       0.72      0.83      0.77      2132\n",
      "           1       0.55      0.39      0.46      1113\n",
      "\n",
      "    accuracy                           0.68      3245\n",
      "   macro avg       0.64      0.61      0.61      3245\n",
      "weighted avg       0.66      0.68      0.66      3245\n",
      "\n"
     ]
    }
   ],
   "source": [
    "from sklearn.model_selection import train_test_split\n",
    "from sklearn.metrics import classification_report\n",
    "from sklearn.ensemble import RandomForestClassifier\n",
    "\n",
    "# Bağımlı ve bağımsız değişkenlerin ayrıştırılması\n",
    "X = tfidf_matrix\n",
    "y = data['gender']\n",
    "\n",
    "# Eğitim ve test setlerine ayırma\n",
    "X_train, X_test, y_train, y_test = train_test_split(X, y, test_size=0.2, random_state=42)\n",
    "\n",
    "# RandomForestClassifier modelinin oluşturulması ve eğitimi\n",
    "rf_classifier = RandomForestClassifier(n_estimators=100, random_state=42)\n",
    "rf_classifier.fit(X_train, y_train)\n",
    "\n",
    "# Test seti üzerinde tahmin yapma\n",
    "y_pred = rf_classifier.predict(X_test)\n",
    "\n",
    "# Model performansını değerlendirme\n",
    "print(classification_report(y_test, y_pred))\n"
   ]
  },
  {
   "cell_type": "code",
   "execution_count": 14,
   "id": "3b909b15-da80-4eff-84ce-ad063610aaed",
   "metadata": {},
   "outputs": [
    {
     "name": "stdout",
     "output_type": "stream",
     "text": [
      "       Actual  Predicted\n",
      "5545        1          0\n",
      "3233        0          0\n",
      "1938        0          0\n",
      "988         1          0\n",
      "17823       0          0\n",
      "13503       0          0\n",
      "3494        1          0\n",
      "16761       1          1\n",
      "2011        0          0\n",
      "94          0          0\n"
     ]
    }
   ],
   "source": [
    "results_df = pd.DataFrame({'Actual': y_test, 'Predicted': y_pred})\n",
    "print(results_df.head(10))\n"
   ]
  },
  {
   "cell_type": "code",
   "execution_count": null,
   "id": "61a0c048-c391-472d-a75e-9041c8c1909e",
   "metadata": {},
   "outputs": [],
   "source": []
  }
 ],
 "metadata": {
  "kernelspec": {
   "display_name": "Python 3 (ipykernel)",
   "language": "python",
   "name": "python3"
  },
  "language_info": {
   "codemirror_mode": {
    "name": "ipython",
    "version": 3
   },
   "file_extension": ".py",
   "mimetype": "text/x-python",
   "name": "python",
   "nbconvert_exporter": "python",
   "pygments_lexer": "ipython3",
   "version": "3.11.5"
  }
 },
 "nbformat": 4,
 "nbformat_minor": 5
}
